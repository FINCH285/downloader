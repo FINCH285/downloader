{
 "cells": [
  {
   "cell_type": "code",
   "execution_count": 1,
   "id": "8b48567c",
   "metadata": {},
   "outputs": [
    {
     "name": "stdout",
     "output_type": "stream",
     "text": [
      "Requirement already satisfied: pillow in c:\\users\\mara\\anaconda3\\lib\\site-packages (9.4.0)Note: you may need to restart the kernel to use updated packages.\n",
      "\n",
      "Collecting pytube3\n",
      "  Downloading pytube3-9.6.4-py3-none-any.whl (38 kB)\n",
      "Collecting pyinstaller\n",
      "  Downloading pyinstaller-6.8.0-py3-none-win_amd64.whl (1.3 MB)\n",
      "     ---------------------------------------- 1.3/1.3 MB 634.4 kB/s eta 0:00:00\n",
      "Requirement already satisfied: typing-extensions in c:\\users\\mara\\anaconda3\\lib\\site-packages (from pytube3) (4.4.0)\n",
      "Collecting pefile>=2022.5.30\n",
      "  Downloading pefile-2023.2.7-py3-none-any.whl (71 kB)\n",
      "     -------------------------------------- 71.8/71.8 kB 654.8 kB/s eta 0:00:00\n",
      "Collecting pyinstaller-hooks-contrib>=2024.6\n",
      "  Downloading pyinstaller_hooks_contrib-2024.7-py2.py3-none-any.whl (341 kB)\n",
      "     -------------------------------------- 341.3/341.3 kB 1.2 MB/s eta 0:00:00\n",
      "Requirement already satisfied: setuptools>=42.0.0 in c:\\users\\mara\\anaconda3\\lib\\site-packages (from pyinstaller) (65.6.3)\n",
      "Requirement already satisfied: packaging>=22.0 in c:\\users\\mara\\anaconda3\\lib\\site-packages (from pyinstaller) (22.0)\n",
      "Collecting pywin32-ctypes>=0.2.1\n",
      "  Downloading pywin32_ctypes-0.2.2-py3-none-any.whl (30 kB)\n",
      "Collecting altgraph\n",
      "  Downloading altgraph-0.17.4-py2.py3-none-any.whl (21 kB)\n",
      "Installing collected packages: altgraph, pywin32-ctypes, pytube3, pyinstaller-hooks-contrib, pefile, pyinstaller\n",
      "  Attempting uninstall: pywin32-ctypes\n",
      "    Found existing installation: pywin32-ctypes 0.2.0\n",
      "    Uninstalling pywin32-ctypes-0.2.0:\n",
      "      Successfully uninstalled pywin32-ctypes-0.2.0\n",
      "Successfully installed altgraph-0.17.4 pefile-2023.2.7 pyinstaller-6.8.0 pyinstaller-hooks-contrib-2024.7 pytube3-9.6.4 pywin32-ctypes-0.2.2\n"
     ]
    }
   ],
   "source": [
    "pip install pillow pytube3 pyinstaller\n"
   ]
  },
  {
   "cell_type": "code",
   "execution_count": null,
   "id": "2e16e6b4",
   "metadata": {},
   "outputs": [],
   "source": [
    "# myapp.spec\n",
    "# -*- mode: python ; coding: utf-8 -*-\n",
    "\n",
    "block_cipher = None\n",
    "\n",
    "a = Analysis(\n",
    "    ['your_script_name.py'],\n",
    "    pathex=['.'],\n",
    "    binaries=[],\n",
    "    datas=[('C:/Users/mara/Downloads/ffgg.jpg', 'ffgg.jpg')],\n",
    "    hiddenimports=[],\n",
    "    hookspath=[],\n",
    "    runtime_hooks=[],\n",
    "    excludes=[],\n",
    "    win_no_prefer_redirects=False,\n",
    "    win_private_assemblies=False,\n",
    "    cipher=block_cipher,\n",
    ")\n",
    "pyz = PYZ(a.pure, a.zipped_data, cipher=block_cipher)\n",
    "\n",
    "exe = EXE(\n",
    "    pyz,\n",
    "    a.scripts,\n",
    "    [],\n",
    "    exclude_binaries=True,\n",
    "    name='YouTubeDownloader',\n",
    "    debug=False,\n",
    "    bootloader_ignore_signals=False,\n",
    "    strip=False,\n",
    "    upx=True,\n",
    "    console=True,\n",
    ")\n",
    "coll = COLLECT(\n",
    "    exe,\n",
    "    a.binaries,\n",
    "    a.zipfiles,\n",
    "    a.datas,\n",
    "    strip=False,\n",
    "    upx=True,\n",
    "    upx_exclude=[],\n",
    "    name='YouTubeDownloader',\n",
    ")\n"
   ]
  }
 ],
 "metadata": {
  "kernelspec": {
   "display_name": "Python 3 (ipykernel)",
   "language": "python",
   "name": "python3"
  },
  "language_info": {
   "codemirror_mode": {
    "name": "ipython",
    "version": 3
   },
   "file_extension": ".py",
   "mimetype": "text/x-python",
   "name": "python",
   "nbconvert_exporter": "python",
   "pygments_lexer": "ipython3",
   "version": "3.10.9"
  }
 },
 "nbformat": 4,
 "nbformat_minor": 5
}
