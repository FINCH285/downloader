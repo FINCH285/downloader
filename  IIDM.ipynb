{
 "cells": [
  {
   "cell_type": "code",
   "execution_count": 3,
   "id": "65d9775b",
   "metadata": {},
   "outputs": [
    {
     "name": "stdout",
     "output_type": "stream",
     "text": [
      "Collecting pytubeNote: you may need to restart the kernel to use updated packages.\n",
      "\n",
      "  Downloading pytube-15.0.0-py3-none-any.whl (57 kB)\n",
      "     -------------------------------------- 57.6/57.6 kB 189.4 kB/s eta 0:00:00\n",
      "Installing collected packages: pytube\n",
      "Successfully installed pytube-15.0.0\n"
     ]
    }
   ],
   "source": [
    "pip install pytube\n"
   ]
  },
  {
   "cell_type": "code",
   "execution_count": 7,
   "id": "9731b981",
   "metadata": {},
   "outputs": [
    {
     "name": "stdout",
     "output_type": "stream",
     "text": [
      "Note: you may need to restart the kernel to use updated packages.Requirement already satisfied: pillow in c:\\users\\mara\\anaconda3\\lib\\site-packages (9.4.0)\n",
      "\n"
     ]
    }
   ],
   "source": [
    "pip install pillow\n"
   ]
  },
  {
   "cell_type": "code",
   "execution_count": 1,
   "id": "d7e76640",
   "metadata": {},
   "outputs": [],
   "source": [
    "import tkinter as tk\n",
    "from tkinter import messagebox\n",
    "from tkinter import ttk\n",
    "from PIL import Image, ImageTk\n",
    "from pytube import YouTube\n",
    "import threading\n",
    "import os\n",
    "\n",
    "def download_file():\n",
    "    url = url_entry.get()\n",
    "    filename = filename_entry.get()\n",
    "\n",
    "    def progress_callback(stream, chunk, bytes_remaining):\n",
    "        total_size = stream.filesize\n",
    "        bytes_downloaded = total_size - bytes_remaining\n",
    "        percentage = (bytes_downloaded / total_size) * 100\n",
    "        progress_var.set(f\"Downloading: {int(percentage)}%\")\n",
    "        progress_bar['value'] = percentage\n",
    "\n",
    "    def download():\n",
    "        try:\n",
    "            yt = YouTube(url, on_progress_callback=progress_callback)\n",
    "            stream = yt.streams.get_highest_resolution()\n",
    "            \n",
    "            # If filename contains a path, use it; otherwise, save to current directory\n",
    "            if os.path.dirname(filename):\n",
    "                directory = os.path.dirname(filename)\n",
    "                if not os.path.exists(directory):\n",
    "                    os.makedirs(directory)\n",
    "                filepath = os.path.join(directory, stream.default_filename)\n",
    "            else:\n",
    "                filepath = stream.default_filename\n",
    "            \n",
    "            stream.download(output_path=os.path.dirname(filepath), filename=os.path.basename(filepath))\n",
    "            messagebox.showinfo(\"Download Complete\", f\"File downloaded successfully to {filepath}.\")\n",
    "        except Exception as e:\n",
    "            messagebox.showerror(\"Error\", f\"Failed to download file: {e}\")\n",
    "        finally:\n",
    "            download_button.config(state=tk.NORMAL)\n",
    "            progress_bar.stop()\n",
    "            progress_var.set(\"\")\n",
    "\n",
    "    download_button.config(state=tk.DISABLED)\n",
    "    progress_bar.start()\n",
    "    threading.Thread(target=download).start()\n",
    "\n",
    "def main():\n",
    "    root = tk.Tk()\n",
    "    root.title(\"KIXC DOWNLOADER\")\n",
    "\n",
    "    root.geometry(\"900x500\")\n",
    "    root.resizable(False, False)\n",
    "\n",
    "    root.columnconfigure(0, weight=1)\n",
    "    root.columnconfigure(1, weight=3)\n",
    "\n",
    "    style = ttk.Style()\n",
    "    style.configure(\"TLabel\", font=(\"Helvetica\", 10))\n",
    "    style.configure(\"TButton\", font=(\"Helvetica\", 10), background=\"#4CAF50\", foreground=\"white\")\n",
    "    style.configure(\"TEntry\", font=(\"Helvetica\", 10))\n",
    "    style.configure(\"TFrame\", background=\"#f5f5f5\")\n",
    "\n",
    "    main_frame = ttk.Frame(root, padding=\"10 10 10 10\")\n",
    "    main_frame.grid(column=0, row=0, sticky=(tk.N, tk.W, tk.E, tk.S))\n",
    "    main_frame.columnconfigure(0, weight=1)\n",
    "    main_frame.columnconfigure(1, weight=3)\n",
    "\n",
    "    # Add a placeholder for logo or graphic\n",
    "    try:\n",
    "        logo_image = Image.open(\"C:/Users/mara/Downloads/ffgg.jpg\")\n",
    "        logo_image = logo_image.resize((150, 150), Image.ANTIALIAS)  # Resize the image to fit better\n",
    "        logo_photo = ImageTk.PhotoImage(logo_image)\n",
    "        logo_label = ttk.Label(main_frame, image=logo_photo, background=\"#f5f5f5\")\n",
    "        logo_label.image = logo_photo  # Keep a reference to avoid garbage collection\n",
    "        logo_label.grid(column=0, row=0, rowspan=6, pady=10, padx=10)\n",
    "    except Exception as e:\n",
    "        messagebox.showerror(\"Image Error\", f\"Failed to load image: {e}\")\n",
    "\n",
    "    url_label = ttk.Label(main_frame, text=\"Enter YouTube URL:\", background=\"#f5f5f5\")\n",
    "    url_label.grid(column=1, row=0, padx=10, pady=10, sticky=tk.W)\n",
    "    global url_entry\n",
    "    url_entry = ttk.Entry(main_frame, width=40)\n",
    "    url_entry.grid(column=2, row=0, padx=10, pady=10, sticky=tk.EW)\n",
    "\n",
    "    filename_label = ttk.Label(main_frame, text=\"Enter Filename (with path if desired):\", background=\"#f5f5f5\")\n",
    "    filename_label.grid(column=1, row=1, padx=10, pady=10, sticky=tk.W)\n",
    "    global filename_entry\n",
    "    filename_entry = ttk.Entry(main_frame, width=40)\n",
    "    filename_entry.grid(column=2, row=1, padx=10, pady=10, sticky=tk.EW)\n",
    "\n",
    "    global download_button\n",
    "    download_button = ttk.Button(main_frame, text=\"Download\", command=download_file)\n",
    "    download_button.grid(column=2, row=2, padx=10, pady=20, sticky=tk.EW)\n",
    "\n",
    "    global progress_bar\n",
    "    progress_bar = ttk.Progressbar(main_frame, mode='determinate')\n",
    "    progress_bar.grid(column=1, row=3, columnspan=2, padx=10, pady=10, sticky=tk.EW)\n",
    "\n",
    "    global progress_var\n",
    "    progress_var = tk.StringVar()\n",
    "    progress_label = ttk.Label(main_frame, textvariable=progress_var, background=\"#f5f5f5\")\n",
    "    progress_label.grid(column=1, row=4, columnspan=2, pady=5)\n",
    "\n",
    "    instructions = ttk.Label(main_frame, text=\"Instructions: Enter the YouTube URL and the desired filename (with path). Click Download to start.\", wraplength=400, background=\"#f5f5f5\")\n",
    "    instructions.grid(column=1, row=5, columnspan=2, padx=10, pady=10)\n",
    "\n",
    "    root.mainloop()\n",
    "\n",
    "if __name__ == \"__main__\":\n",
    "    main()\n"
   ]
  }
 ],
 "metadata": {
  "kernelspec": {
   "display_name": "Python 3 (ipykernel)",
   "language": "python",
   "name": "python3"
  },
  "language_info": {
   "codemirror_mode": {
    "name": "ipython",
    "version": 3
   },
   "file_extension": ".py",
   "mimetype": "text/x-python",
   "name": "python",
   "nbconvert_exporter": "python",
   "pygments_lexer": "ipython3",
   "version": "3.10.9"
  }
 },
 "nbformat": 4,
 "nbformat_minor": 5
}
